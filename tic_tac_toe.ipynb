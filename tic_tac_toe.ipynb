{
 "cells": [
  {
   "cell_type": "code",
   "execution_count": 1,
   "metadata": {},
   "outputs": [],
   "source": [
    "def player_choice():\n",
    "    \n",
    "    p0 = '' #symbol  choice for player 1\n",
    "    p1 = 'X' #player1\n",
    "    p2 = 'O' #player2\n",
    "    while p0 not in ['X' , 'O']:\n",
    "        p0 = input('which symbol do you want to take: X or O').upper() #player_symbol\n",
    "        if p0 not in ['X', 'O']:\n",
    "            print('sorry it is not valid  enter X or O')\n",
    "        if p0 == 'X':\n",
    "            pass\n",
    "        else:\n",
    "            p1 = 'O'\n",
    "            p2 = 'X'\n",
    "            \n",
    "    return p1       "
   ]
  },
  {
   "cell_type": "code",
   "execution_count": 58,
   "metadata": {
    "scrolled": true
   },
   "outputs": [
    {
     "name": "stdout",
     "output_type": "stream",
     "text": [
      "which symbol do you want to take: X or Oo\n"
     ]
    },
    {
     "data": {
      "text/plain": [
       "'O'"
      ]
     },
     "execution_count": 58,
     "metadata": {},
     "output_type": "execute_result"
    }
   ],
   "source": [
    "player_choice()"
   ]
  },
  {
   "cell_type": "code",
   "execution_count": 60,
   "metadata": {},
   "outputs": [],
   "source": [
    "from IPython.display import clear_output\n",
    "board = ['#','X','O','X','O','X','O','X','O','X']\n",
    "def display_board(board):\n",
    "    clear_output()\n",
    "    print('     |'+'     |')\n",
    "    print('__'+ board[7] +'__|__' + board[8] + '__|__' + board[9]+'__') \n",
    "    print('     |'+'     |')\n",
    "    print('__'+ board[4] +'__|__' + board[5] + '__|__' + board[6]+'__')\n",
    "    print('     |'+'     |')\n",
    "    print('  '+ board[1] +'  |  ' + board[2] + '  |  ' + board[3])\n",
    "    print('     |'+'     |')"
   ]
  },
  {
   "cell_type": "code",
   "execution_count": 61,
   "metadata": {},
   "outputs": [
    {
     "name": "stdout",
     "output_type": "stream",
     "text": [
      "     |     |\n",
      "__X__|__O__|__X__\n",
      "     |     |\n",
      "__O__|__X__|__O__\n",
      "     |     |\n",
      "  X  |  O  |  X\n",
      "     |     |\n"
     ]
    }
   ],
   "source": [
    "display_board(board)"
   ]
  },
  {
   "cell_type": "code",
   "execution_count": 3,
   "metadata": {},
   "outputs": [],
   "source": [
    "def index():\n",
    "    i = 1\n",
    "    y = range(1,10)\n",
    "    x = ''\n",
    "    while x not in y:\n",
    "        x = int(input('ENTER A NUMBER(1-9) TO PLACE YOUR SYMBOL: '))\n",
    "        if x not in y:\n",
    "            print('SORRY PLEASE ENTER (1-9)')\n",
    "    return x        "
   ]
  },
  {
   "cell_type": "code",
   "execution_count": 48,
   "metadata": {},
   "outputs": [
    {
     "name": "stdout",
     "output_type": "stream",
     "text": [
      "ENTER A NUMBER(1-9) TO PLACE YOUR SYMBOL: 1\n"
     ]
    },
    {
     "data": {
      "text/plain": [
       "1"
      ]
     },
     "execution_count": 48,
     "metadata": {},
     "output_type": "execute_result"
    }
   ],
   "source": [
    "index()"
   ]
  },
  {
   "cell_type": "code",
   "execution_count": 4,
   "metadata": {},
   "outputs": [],
   "source": [
    "def place_marker(board, marker, position):\n",
    "    board[position] = marker\n",
    "    \n",
    "    "
   ]
  },
  {
   "cell_type": "code",
   "execution_count": 5,
   "metadata": {},
   "outputs": [],
   "source": [
    "def win_check(board,mark):\n",
    "    return ((board[7]==mark and board[8]==mark and board[9]==mark) or \n",
    "            (board[4]==mark and board[5]==mark and board[6]==mark) or\n",
    "            (board[1]==mark and board[2]==mark and board[3]==mark) or\n",
    "            (board[7]==mark and board[5]==mark and board[3]==mark) or\n",
    "            (board[9]==mark and board[5]==mark and board[1]==mark) or\n",
    "            (board[7]==mark and board[4]==mark and board[1]==mark) or\n",
    "            (board[8]==mark and board[5]==mark and board[2]==mark) or\n",
    "            (board[9]==mark and board[6]==mark and board[3]==mark) )\n",
    "            "
   ]
  },
  {
   "cell_type": "code",
   "execution_count": 6,
   "metadata": {},
   "outputs": [],
   "source": [
    "\n",
    "import random\n",
    "def choose_first():\n",
    "    \n",
    "    if random.randint(0, 1) == 0:\n",
    "        return 'PLAYER 2'\n",
    "    else:\n",
    "        return 'PLAYER 1'"
   ]
  },
  {
   "cell_type": "code",
   "execution_count": 11,
   "metadata": {},
   "outputs": [
    {
     "data": {
      "text/plain": [
       "'Player 1'"
      ]
     },
     "execution_count": 11,
     "metadata": {},
     "output_type": "execute_result"
    }
   ],
   "source": [
    "choose_first()"
   ]
  },
  {
   "cell_type": "code",
   "execution_count": 7,
   "metadata": {},
   "outputs": [],
   "source": [
    "def clear_board(board):\n",
    "    for i in range(1,10):\n",
    "        board[i] = ' '\n",
    "    return board\n"
   ]
  },
  {
   "cell_type": "code",
   "execution_count": 146,
   "metadata": {},
   "outputs": [
    {
     "name": "stdout",
     "output_type": "stream",
     "text": [
      "     |     |\n",
      "__ __|__ __|__ __\n",
      "     |     |\n",
      "__ __|__ __|__ __\n",
      "     |     |\n",
      "     |     |   \n",
      "     |     |\n"
     ]
    }
   ],
   "source": [
    "clear_board(board)\n",
    "display_board(board)\n"
   ]
  },
  {
   "cell_type": "code",
   "execution_count": 49,
   "metadata": {},
   "outputs": [],
   "source": [
    "def final():\n",
    "    i = 1\n",
    "    clear_board(board)  #clears everything in board\n",
    "    display_board(board) #displays the cleared board\n",
    "    x = choose_first()\n",
    "    print(x + '  GOT FIRST CHANCE' + '---it is randomly picked'.upper())\n",
    "    y = player_choice()\n",
    "    print(x + ' SYMBOL IS ' + y)\n",
    "    while i<10:\n",
    "        j = index()\n",
    "        if y == 'X':\n",
    "            if i%2 == 1:\n",
    "                place_marker(board,y,j)\n",
    "                display_board(board)\n",
    "                if win_check(board,y) == True:\n",
    "                    print(x + ' SYMBOL IS ' + y)\n",
    "                    print('  CONGRATULATIONS ')\n",
    "                    print( x + ' WON THE GAME')\n",
    "                    break\n",
    "            else:\n",
    "                y = 'O'     \n",
    "                place_marker(board,y,j)\n",
    "                display_board(board)\n",
    "                if win_check(board,y) == True:\n",
    "                    print(x + ' SYMBOL IS ' + y)\n",
    "                    print('  CONGRATULATIONS ')\n",
    "                    print( 'PLAYER 2' + ' WON THE GAME')\n",
    "                    break\n",
    "                y = 'X'    \n",
    "        else:\n",
    "            if i%2 == 1:\n",
    "                y = 'O'\n",
    "                place_marker(board,y,j)\n",
    "                display_board(board)\n",
    "                if win_check(board,y) == True:\n",
    "                    print(x + ' SYMBOL IS ' + y)\n",
    "                    print('  CONGRATULATIONS ')\n",
    "                    print( x + ' WON THE GAME')\n",
    "                    break\n",
    "            else:\n",
    "                y = 'X'     \n",
    "                place_marker(board,y,j)\n",
    "                display_board(board)\n",
    "                if win_check(board,y) == True:\n",
    "                    print(x + ' SYMBOL IS ' + y)\n",
    "                    print('  CONGRATULATIONS ')\n",
    "                    print( 'PLAYER 2' + ' WON THE GAME')\n",
    "                    break\n",
    "                y = 'O'\n",
    "\n",
    "        i+=1\n",
    "    \n"
   ]
  },
  {
   "cell_type": "code",
   "execution_count": 50,
   "metadata": {},
   "outputs": [],
   "source": [
    "def repeat():\n",
    "    final()\n",
    "    x = input('IF WANT TO PLAY AGAIN--\\n THEN TYPE Y or N').upper()\n",
    "    if x == 'Y':\n",
    "        final()\n",
    "    else:\n",
    "        pass"
   ]
  },
  {
   "cell_type": "code",
   "execution_count": 63,
   "metadata": {},
   "outputs": [
    {
     "name": "stdout",
     "output_type": "stream",
     "text": [
      "     |     |\n",
      "__X__|__X__|__ __\n",
      "     |     |\n",
      "__O__|__X__|__X__\n",
      "     |     |\n",
      "  O  |  O  |  O\n",
      "     |     |\n",
      "PLAYER 2 SYMBOL IS O\n",
      "  CONGRATULATIONS \n",
      "PLAYER 2 WON THE GAME\n"
     ]
    }
   ],
   "source": [
    "repeat()"
   ]
  }
 ],
 "metadata": {
  "kernelspec": {
   "display_name": "Python 3",
   "language": "python",
   "name": "python3"
  },
  "language_info": {
   "codemirror_mode": {
    "name": "ipython",
    "version": 3
   },
   "file_extension": ".py",
   "mimetype": "text/x-python",
   "name": "python",
   "nbconvert_exporter": "python",
   "pygments_lexer": "ipython3",
   "version": "3.8.5"
  }
 },
 "nbformat": 4,
 "nbformat_minor": 4
}
